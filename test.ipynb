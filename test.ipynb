{
 "cells": [
  {
   "cell_type": "code",
   "execution_count": 1,
   "metadata": {
    "collapsed": true,
    "pycharm": {
     "is_executing": false,
     "name": "#%%\n"
    }
   },
   "outputs": [],
   "source": [
    "import fluxcal_observer as fcal\n",
    "\n",
    "test_source = fcal.SkyCoord(\n",
    "   ra=10.2 * fcal.u.hour, dec=-22.1*fcal.u.deg, frame='icrs')\n",
    "epoch = {'start': '2020-02-21', 'stop': '2020-02-22', 'step': '15min'}"
   ]
  },
  {
   "cell_type": "code",
   "execution_count": 2,
   "outputs": [],
   "source": [
    "sep_moon = fcal.get_separation_to_sso(epoch, 'Moon', test_source)\n",
    "sep_sun = fcal.get_separation_to_sso(epoch, 'Sun', test_source)\n",
    "sep_jup = fcal.get_separation_to_sso(epoch, 'Jupiter', test_source)"
   ],
   "metadata": {
    "collapsed": false,
    "pycharm": {
     "name": "#%%\n",
     "is_executing": false
    }
   }
  },
  {
   "cell_type": "code",
   "execution_count": 3,
   "outputs": [
    {
     "data": {
      "text/plain": "<Angle [146.88046856, 146.88410648, 146.88774138, 146.89138335,\n        146.89501219, 146.89863809, 146.90226094, 146.90588084,\n        146.90948767, 146.91310144, 146.91671212, 146.92030983,\n        146.92390457, 146.92749621, 146.93108487, 146.93467056,\n        146.93825312, 146.9418327 , 146.94539929, 146.94896289,\n        146.95252364, 146.95608127, 146.95963589, 146.96318769,\n        146.9667265 , 146.97027231, 146.97380514, 146.97733532,\n        146.98086234, 146.98438655, 146.98790796, 146.99142658,\n        146.99493222, 146.99844508, 147.00194516, 147.00544247,\n        147.00894682, 147.01243861, 147.01592745, 147.01941376,\n        147.02290712, 147.02638776, 147.02986589, 147.0333411 ,\n        147.03681382, 147.04029363, 147.04376097, 147.04722541,\n        147.05069718, 147.05415651, 147.05762296, 147.06108675,\n        147.0645479 , 147.06800642, 147.07146231, 147.07492557,\n        147.07837598, 147.08183377, 147.0852887 , 147.08874103,\n        147.09219077, 147.09563765, 147.09909195, 147.10254313,\n        147.10599172, 147.10943775, 147.11288065, 147.11633097,\n        147.11977816, 147.12322279, 147.12666427, 147.13011288,\n        147.13354865, 147.13699155, 147.1404316 , 147.14387816,\n        147.14731216, 147.15075297, 147.1541806 , 147.15761534,\n        147.16105687, 147.16448519, 147.16791061, 147.1713428 ,\n        147.17476175, 147.17818745, 147.18160989, 147.1850294 ,\n        147.1884453 , 147.19185791, 147.19526757, 147.19867358,\n        147.20207662, 147.20547635, 147.20888238, 147.21227543,\n        147.21566513] deg>",
      "text/latex": "[$146^\\circ52{}^\\prime49.6868{}^{\\prime\\prime}$\n $146^\\circ53{}^\\prime02.7833{}^{\\prime\\prime}$\n $146^\\circ53{}^\\prime15.869{}^{\\prime\\prime}$\n $146^\\circ53{}^\\prime28.9801{}^{\\prime\\prime}$\n $146^\\circ53{}^\\prime42.0439{}^{\\prime\\prime}$\n $146^\\circ53{}^\\prime55.0971{}^{\\prime\\prime}$\n $146^\\circ54{}^\\prime08.1394{}^{\\prime\\prime}$\n $146^\\circ54{}^\\prime21.171{}^{\\prime\\prime}$\n $146^\\circ54{}^\\prime34.1556{}^{\\prime\\prime}$\n $146^\\circ54{}^\\prime47.1652{}^{\\prime\\prime}$\n $146^\\circ55{}^\\prime00.1636{}^{\\prime\\prime}$\n $146^\\circ55{}^\\prime13.1154{}^{\\prime\\prime}$\n $146^\\circ55{}^\\prime26.0565{}^{\\prime\\prime}$\n $146^\\circ55{}^\\prime38.9864{}^{\\prime\\prime}$\n $146^\\circ55{}^\\prime51.9055{}^{\\prime\\prime}$\n $146^\\circ56{}^\\prime04.814{}^{\\prime\\prime}$\n $146^\\circ56{}^\\prime17.7112{}^{\\prime\\prime}$\n $146^\\circ56{}^\\prime30.5977{}^{\\prime\\prime}$\n $146^\\circ56{}^\\prime43.4374{}^{\\prime\\prime}$\n $146^\\circ56{}^\\prime56.2664{}^{\\prime\\prime}$\n $146^\\circ57{}^\\prime09.0851{}^{\\prime\\prime}$\n $146^\\circ57{}^\\prime21.8926{}^{\\prime\\prime}$\n $146^\\circ57{}^\\prime34.6892{}^{\\prime\\prime}$\n $146^\\circ57{}^\\prime47.4757{}^{\\prime\\prime}$\n $146^\\circ58{}^\\prime00.2154{}^{\\prime\\prime}$\n $146^\\circ58{}^\\prime12.9803{}^{\\prime\\prime}$\n $146^\\circ58{}^\\prime25.6985{}^{\\prime\\prime}$\n $146^\\circ58{}^\\prime38.4071{}^{\\prime\\prime}$\n $146^\\circ58{}^\\prime51.1044{}^{\\prime\\prime}$\n $146^\\circ59{}^\\prime03.7916{}^{\\prime\\prime}$\n $146^\\circ59{}^\\prime16.4687{}^{\\prime\\prime}$\n $146^\\circ59{}^\\prime29.1357{}^{\\prime\\prime}$\n $146^\\circ59{}^\\prime41.756{}^{\\prime\\prime}$\n $146^\\circ59{}^\\prime54.4023{}^{\\prime\\prime}$\n $147^\\circ00{}^\\prime07.0026{}^{\\prime\\prime}$\n $147^\\circ00{}^\\prime19.5929{}^{\\prime\\prime}$\n $147^\\circ00{}^\\prime32.2085{}^{\\prime\\prime}$\n $147^\\circ00{}^\\prime44.779{}^{\\prime\\prime}$\n $147^\\circ00{}^\\prime57.3388{}^{\\prime\\prime}$\n $147^\\circ01{}^\\prime09.8895{}^{\\prime\\prime}$\n $147^\\circ01{}^\\prime22.4656{}^{\\prime\\prime}$\n $147^\\circ01{}^\\prime34.9959{}^{\\prime\\prime}$\n $147^\\circ01{}^\\prime47.5172{}^{\\prime\\prime}$\n $147^\\circ02{}^\\prime00.0279{}^{\\prime\\prime}$\n $147^\\circ02{}^\\prime12.5298{}^{\\prime\\prime}$\n $147^\\circ02{}^\\prime25.0571{}^{\\prime\\prime}$\n $147^\\circ02{}^\\prime37.5395{}^{\\prime\\prime}$\n $147^\\circ02{}^\\prime50.0115{}^{\\prime\\prime}$\n $147^\\circ03{}^\\prime02.5098{}^{\\prime\\prime}$\n $147^\\circ03{}^\\prime14.9634{}^{\\prime\\prime}$\n $147^\\circ03{}^\\prime27.4426{}^{\\prime\\prime}$\n $147^\\circ03{}^\\prime39.9123{}^{\\prime\\prime}$\n $147^\\circ03{}^\\prime52.3724{}^{\\prime\\prime}$\n $147^\\circ04{}^\\prime04.8231{}^{\\prime\\prime}$\n $147^\\circ04{}^\\prime17.2643{}^{\\prime\\prime}$\n $147^\\circ04{}^\\prime29.7321{}^{\\prime\\prime}$\n $147^\\circ04{}^\\prime42.1535{}^{\\prime\\prime}$\n $147^\\circ04{}^\\prime54.6016{}^{\\prime\\prime}$\n $147^\\circ05{}^\\prime07.0393{}^{\\prime\\prime}$\n $147^\\circ05{}^\\prime19.4677{}^{\\prime\\prime}$\n $147^\\circ05{}^\\prime31.8868{}^{\\prime\\prime}$\n $147^\\circ05{}^\\prime44.2956{}^{\\prime\\prime}$\n $147^\\circ05{}^\\prime56.731{}^{\\prime\\prime}$\n $147^\\circ06{}^\\prime09.1553{}^{\\prime\\prime}$\n $147^\\circ06{}^\\prime21.5702{}^{\\prime\\prime}$\n $147^\\circ06{}^\\prime33.9759{}^{\\prime\\prime}$\n $147^\\circ06{}^\\prime46.3703{}^{\\prime\\prime}$\n $147^\\circ06{}^\\prime58.7915{}^{\\prime\\prime}$\n $147^\\circ07{}^\\prime11.2014{}^{\\prime\\prime}$\n $147^\\circ07{}^\\prime23.602{}^{\\prime\\prime}$\n $147^\\circ07{}^\\prime35.9914{}^{\\prime\\prime}$\n $147^\\circ07{}^\\prime48.4064{}^{\\prime\\prime}$\n $147^\\circ08{}^\\prime00.7751{}^{\\prime\\prime}$\n $147^\\circ08{}^\\prime13.1696{}^{\\prime\\prime}$\n $147^\\circ08{}^\\prime25.5537{}^{\\prime\\prime}$\n $147^\\circ08{}^\\prime37.9614{}^{\\prime\\prime}$\n $147^\\circ08{}^\\prime50.3238{}^{\\prime\\prime}$\n $147^\\circ09{}^\\prime02.7107{}^{\\prime\\prime}$\n $147^\\circ09{}^\\prime15.0502{}^{\\prime\\prime}$\n $147^\\circ09{}^\\prime27.4152{}^{\\prime\\prime}$\n $147^\\circ09{}^\\prime39.8047{}^{\\prime\\prime}$\n $147^\\circ09{}^\\prime52.1467{}^{\\prime\\prime}$\n $147^\\circ10{}^\\prime04.4782{}^{\\prime\\prime}$\n $147^\\circ10{}^\\prime16.8341{}^{\\prime\\prime}$\n $147^\\circ10{}^\\prime29.1423{}^{\\prime\\prime}$\n $147^\\circ10{}^\\prime41.4748{}^{\\prime\\prime}$\n $147^\\circ10{}^\\prime53.7956{}^{\\prime\\prime}$\n $147^\\circ11{}^\\prime06.1058{}^{\\prime\\prime}$\n $147^\\circ11{}^\\prime18.4031{}^{\\prime\\prime}$\n $147^\\circ11{}^\\prime30.6885{}^{\\prime\\prime}$\n $147^\\circ11{}^\\prime42.9632{}^{\\prime\\prime}$\n $147^\\circ11{}^\\prime55.2249{}^{\\prime\\prime}$\n $147^\\circ12{}^\\prime07.4758{}^{\\prime\\prime}$\n $147^\\circ12{}^\\prime19.7149{}^{\\prime\\prime}$\n $147^\\circ12{}^\\prime31.9766{}^{\\prime\\prime}$\n $147^\\circ12{}^\\prime44.1915{}^{\\prime\\prime}$\n $147^\\circ12{}^\\prime56.3945{}^{\\prime\\prime}$]"
     },
     "metadata": {},
     "output_type": "execute_result",
     "execution_count": 3
    }
   ],
   "source": [
    "sep_sun"
   ],
   "metadata": {
    "collapsed": false,
    "pycharm": {
     "name": "#%%\n",
     "is_executing": false
    }
   }
  },
  {
   "cell_type": "code",
   "execution_count": 4,
   "outputs": [
    {
     "data": {
      "text/plain": "astropy.coordinates.angles.Angle"
     },
     "metadata": {},
     "output_type": "execute_result",
     "execution_count": 4
    }
   ],
   "source": [
    "type(sep_sun)"
   ],
   "metadata": {
    "collapsed": false,
    "pycharm": {
     "name": "#%%\n",
     "is_executing": false
    }
   }
  },
  {
   "cell_type": "code",
   "execution_count": 5,
   "outputs": [],
   "source": [
    "io = fcal.get_sso_coordinates(epoch, 'Io')\n"
   ],
   "metadata": {
    "collapsed": false,
    "pycharm": {
     "name": "#%%\n",
     "is_executing": false
    }
   }
  },
  {
   "cell_type": "code",
   "execution_count": 6,
   "outputs": [],
   "source": [
    "datadict = fcal.get_jovians_info(epoch, fcal.get_sso_coordinates(epoch, 'Sun'), fcal.get_sso_coordinates(epoch, 'Moon'))"
   ],
   "metadata": {
    "collapsed": false,
    "pycharm": {
     "name": "#%%\n",
     "is_executing": false
    }
   }
  },
  {
   "cell_type": "code",
   "execution_count": 8,
   "outputs": [],
   "source": [
    "datadict['Ganymede'].to_csv('datatemplate.csv', index=False)\n"
   ],
   "metadata": {
    "collapsed": false,
    "pycharm": {
     "name": "#%%\n",
     "is_executing": false
    }
   }
  },
  {
   "cell_type": "code",
   "execution_count": 8,
   "outputs": [
    {
     "data": {
      "text/plain": "array([ 5.50865734,  5.75934182,  6.01002629,  6.26071078,  6.51139526,\n        6.76207973,  7.01276421,  7.2634487 ,  7.51413317,  7.76481765,\n        8.01550214,  8.2661866 ,  8.51687109,  8.76755558,  9.01824004,\n        9.26892453,  9.51960902,  9.77029348, 10.02097797, 10.27166245,\n       10.52234692, 10.7730314 , 11.02371589, 11.27440035, 11.52508484,\n       11.77576932, 12.02645379, 12.27713827, 12.52782276, 12.77850722,\n       13.02919171, 13.27987619, 13.53056065, 13.78124514, 14.03192963,\n       14.28261409, 14.53329857, 14.78398306, 15.03466752, 15.285352  ,\n       15.53603649, 15.78672095, 16.03740544, 16.28808992, 16.53877438,\n       16.78945887, 17.04014335, 17.29082781, 17.5415123 , 17.79219678,\n       18.04288124, 18.29356573, 18.54425021, 18.79493467, 19.04561915,\n       19.29630364, 19.5469881 , 19.79767258, 20.04835707, 20.29904153,\n       20.54972601, 20.80041049, 21.05109495, 21.30177944, 21.55246392,\n       21.80314838, 22.05383286, 22.30451734, 22.55520181, 22.80588629,\n       23.05657077, 23.30725523, 23.55793971, 23.80862419,  0.05930865,\n        0.30999314,  0.56067762,  0.81136208,  1.06204656,  1.31273104,\n        1.5634155 ,  1.81409998,  2.06478446,  2.31546892,  2.5661534 ,\n        2.81683788,  3.06752234,  3.31820682,  3.5688913 ,  3.81957576,\n        4.07026024,  4.32094472,  4.57162918,  4.82231366,  5.07299814,\n        5.3236826 ,  5.57436708])"
     },
     "metadata": {},
     "output_type": "execute_result",
     "execution_count": 8
    }
   ],
   "source": [
    "io.obstime.sidereal_time('apparent', longitude=fcal.ALMA.lon).hour\n",
    "\n"
   ],
   "metadata": {
    "collapsed": false,
    "pycharm": {
     "name": "#%%\n",
     "is_executing": false
    }
   }
  },
  {
   "cell_type": "code",
   "execution_count": 8,
   "outputs": [],
   "source": [
    "\n"
   ],
   "metadata": {
    "collapsed": false,
    "pycharm": {
     "name": "#%%\n",
     "is_executing": false
    }
   }
  }
 ],
 "metadata": {
  "kernelspec": {
   "display_name": "Python 3",
   "language": "python",
   "name": "python3"
  },
  "language_info": {
   "codemirror_mode": {
    "name": "ipython",
    "version": 2
   },
   "file_extension": ".py",
   "mimetype": "text/x-python",
   "name": "python",
   "nbconvert_exporter": "python",
   "pygments_lexer": "ipython2",
   "version": "2.7.6"
  },
  "pycharm": {
   "stem_cell": {
    "cell_type": "raw",
    "source": [],
    "metadata": {
     "collapsed": false
    }
   }
  }
 },
 "nbformat": 4,
 "nbformat_minor": 0
}