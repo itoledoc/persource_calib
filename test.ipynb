{
 "cells": [
  {
   "cell_type": "code",
   "execution_count": 1,
   "metadata": {
    "collapsed": true,
    "pycharm": {
     "is_executing": false,
     "name": "#%%\n"
    }
   },
   "outputs": [],
   "source": [
    "import fluxcal_observer as fcal\n",
    "from astropy.timeseries import TimeSeries\n",
    "test_source = fcal.SkyCoord(\n",
    "   ra=10.2 * fcal.u.hour, dec=-22.1*fcal.u.deg, frame='icrs')\n",
    "epoch = {'start': '2020-02-21', 'stop': '2020-02-22', 'step': '15min'}"
   ]
  },
  {
   "cell_type": "code",
   "execution_count": 4,
   "outputs": [],
   "source": [
    "sep_moon = fcal.get_separation_to_sso(test_source, 'Moon', epoch)\n",
    "sep_sun = fcal.get_separation_to_sso(test_source, 'Sun', epoch)\n",
    "sep_jup = fcal.get_separation_to_sso(test_source, 'Jupiter', epoch)"
   ],
   "metadata": {
    "collapsed": false,
    "pycharm": {
     "name": "#%%\n",
     "is_executing": false
    }
   }
  },
  {
   "cell_type": "code",
   "execution_count": 10,
   "outputs": [
    {
     "data": {
      "text/plain": "<Angle [146.88046856, 146.88410648, 146.88774138, 146.89138335,\n        146.89501219, 146.89863809, 146.90226094, 146.90588084,\n        146.90948767, 146.91310144, 146.91671212, 146.92030983,\n        146.92390457, 146.92749621, 146.93108487, 146.93467056,\n        146.93825312, 146.9418327 , 146.94539929, 146.94896289,\n        146.95252364, 146.95608127, 146.95963589, 146.96318769,\n        146.9667265 , 146.97027231, 146.97380514, 146.97733532,\n        146.98086234, 146.98438655, 146.98790796, 146.99142658,\n        146.99493222, 146.99844508, 147.00194516, 147.00544247,\n        147.00894682, 147.01243861, 147.01592745, 147.01941376,\n        147.02290712, 147.02638776, 147.02986589, 147.0333411 ,\n        147.03681382, 147.04029363, 147.04376097, 147.04722541,\n        147.05069718, 147.05415651, 147.05762296, 147.06108675,\n        147.0645479 , 147.06800642, 147.07146231, 147.07492557,\n        147.07837598, 147.08183377, 147.0852887 , 147.08874103,\n        147.09219077, 147.09563765, 147.09909195, 147.10254313,\n        147.10599172, 147.10943775, 147.11288065, 147.11633097,\n        147.11977816, 147.12322279, 147.12666427, 147.13011288,\n        147.13354865, 147.13699155, 147.1404316 , 147.14387816,\n        147.14731216, 147.15075297, 147.1541806 , 147.15761534,\n        147.16105687, 147.16448519, 147.16791061, 147.1713428 ,\n        147.17476175, 147.17818745, 147.18160989, 147.1850294 ,\n        147.1884453 , 147.19185791, 147.19526757, 147.19867358,\n        147.20207662, 147.20547635, 147.20888238, 147.21227543,\n        147.21566513] deg>",
      "text/latex": "[$146^\\circ52{}^\\prime49.6868{}^{\\prime\\prime}$\n $146^\\circ53{}^\\prime02.7833{}^{\\prime\\prime}$\n $146^\\circ53{}^\\prime15.869{}^{\\prime\\prime}$\n $146^\\circ53{}^\\prime28.9801{}^{\\prime\\prime}$\n $146^\\circ53{}^\\prime42.0439{}^{\\prime\\prime}$\n $146^\\circ53{}^\\prime55.0971{}^{\\prime\\prime}$\n $146^\\circ54{}^\\prime08.1394{}^{\\prime\\prime}$\n $146^\\circ54{}^\\prime21.171{}^{\\prime\\prime}$\n $146^\\circ54{}^\\prime34.1556{}^{\\prime\\prime}$\n $146^\\circ54{}^\\prime47.1652{}^{\\prime\\prime}$\n $146^\\circ55{}^\\prime00.1636{}^{\\prime\\prime}$\n $146^\\circ55{}^\\prime13.1154{}^{\\prime\\prime}$\n $146^\\circ55{}^\\prime26.0565{}^{\\prime\\prime}$\n $146^\\circ55{}^\\prime38.9864{}^{\\prime\\prime}$\n $146^\\circ55{}^\\prime51.9055{}^{\\prime\\prime}$\n $146^\\circ56{}^\\prime04.814{}^{\\prime\\prime}$\n $146^\\circ56{}^\\prime17.7112{}^{\\prime\\prime}$\n $146^\\circ56{}^\\prime30.5977{}^{\\prime\\prime}$\n $146^\\circ56{}^\\prime43.4374{}^{\\prime\\prime}$\n $146^\\circ56{}^\\prime56.2664{}^{\\prime\\prime}$\n $146^\\circ57{}^\\prime09.0851{}^{\\prime\\prime}$\n $146^\\circ57{}^\\prime21.8926{}^{\\prime\\prime}$\n $146^\\circ57{}^\\prime34.6892{}^{\\prime\\prime}$\n $146^\\circ57{}^\\prime47.4757{}^{\\prime\\prime}$\n $146^\\circ58{}^\\prime00.2154{}^{\\prime\\prime}$\n $146^\\circ58{}^\\prime12.9803{}^{\\prime\\prime}$\n $146^\\circ58{}^\\prime25.6985{}^{\\prime\\prime}$\n $146^\\circ58{}^\\prime38.4071{}^{\\prime\\prime}$\n $146^\\circ58{}^\\prime51.1044{}^{\\prime\\prime}$\n $146^\\circ59{}^\\prime03.7916{}^{\\prime\\prime}$\n $146^\\circ59{}^\\prime16.4687{}^{\\prime\\prime}$\n $146^\\circ59{}^\\prime29.1357{}^{\\prime\\prime}$\n $146^\\circ59{}^\\prime41.756{}^{\\prime\\prime}$\n $146^\\circ59{}^\\prime54.4023{}^{\\prime\\prime}$\n $147^\\circ00{}^\\prime07.0026{}^{\\prime\\prime}$\n $147^\\circ00{}^\\prime19.5929{}^{\\prime\\prime}$\n $147^\\circ00{}^\\prime32.2085{}^{\\prime\\prime}$\n $147^\\circ00{}^\\prime44.779{}^{\\prime\\prime}$\n $147^\\circ00{}^\\prime57.3388{}^{\\prime\\prime}$\n $147^\\circ01{}^\\prime09.8895{}^{\\prime\\prime}$\n $147^\\circ01{}^\\prime22.4656{}^{\\prime\\prime}$\n $147^\\circ01{}^\\prime34.9959{}^{\\prime\\prime}$\n $147^\\circ01{}^\\prime47.5172{}^{\\prime\\prime}$\n $147^\\circ02{}^\\prime00.0279{}^{\\prime\\prime}$\n $147^\\circ02{}^\\prime12.5298{}^{\\prime\\prime}$\n $147^\\circ02{}^\\prime25.0571{}^{\\prime\\prime}$\n $147^\\circ02{}^\\prime37.5395{}^{\\prime\\prime}$\n $147^\\circ02{}^\\prime50.0115{}^{\\prime\\prime}$\n $147^\\circ03{}^\\prime02.5098{}^{\\prime\\prime}$\n $147^\\circ03{}^\\prime14.9634{}^{\\prime\\prime}$\n $147^\\circ03{}^\\prime27.4426{}^{\\prime\\prime}$\n $147^\\circ03{}^\\prime39.9123{}^{\\prime\\prime}$\n $147^\\circ03{}^\\prime52.3724{}^{\\prime\\prime}$\n $147^\\circ04{}^\\prime04.8231{}^{\\prime\\prime}$\n $147^\\circ04{}^\\prime17.2643{}^{\\prime\\prime}$\n $147^\\circ04{}^\\prime29.7321{}^{\\prime\\prime}$\n $147^\\circ04{}^\\prime42.1535{}^{\\prime\\prime}$\n $147^\\circ04{}^\\prime54.6016{}^{\\prime\\prime}$\n $147^\\circ05{}^\\prime07.0393{}^{\\prime\\prime}$\n $147^\\circ05{}^\\prime19.4677{}^{\\prime\\prime}$\n $147^\\circ05{}^\\prime31.8868{}^{\\prime\\prime}$\n $147^\\circ05{}^\\prime44.2956{}^{\\prime\\prime}$\n $147^\\circ05{}^\\prime56.731{}^{\\prime\\prime}$\n $147^\\circ06{}^\\prime09.1553{}^{\\prime\\prime}$\n $147^\\circ06{}^\\prime21.5702{}^{\\prime\\prime}$\n $147^\\circ06{}^\\prime33.9759{}^{\\prime\\prime}$\n $147^\\circ06{}^\\prime46.3703{}^{\\prime\\prime}$\n $147^\\circ06{}^\\prime58.7915{}^{\\prime\\prime}$\n $147^\\circ07{}^\\prime11.2014{}^{\\prime\\prime}$\n $147^\\circ07{}^\\prime23.602{}^{\\prime\\prime}$\n $147^\\circ07{}^\\prime35.9914{}^{\\prime\\prime}$\n $147^\\circ07{}^\\prime48.4064{}^{\\prime\\prime}$\n $147^\\circ08{}^\\prime00.7751{}^{\\prime\\prime}$\n $147^\\circ08{}^\\prime13.1696{}^{\\prime\\prime}$\n $147^\\circ08{}^\\prime25.5537{}^{\\prime\\prime}$\n $147^\\circ08{}^\\prime37.9614{}^{\\prime\\prime}$\n $147^\\circ08{}^\\prime50.3238{}^{\\prime\\prime}$\n $147^\\circ09{}^\\prime02.7107{}^{\\prime\\prime}$\n $147^\\circ09{}^\\prime15.0502{}^{\\prime\\prime}$\n $147^\\circ09{}^\\prime27.4152{}^{\\prime\\prime}$\n $147^\\circ09{}^\\prime39.8047{}^{\\prime\\prime}$\n $147^\\circ09{}^\\prime52.1467{}^{\\prime\\prime}$\n $147^\\circ10{}^\\prime04.4782{}^{\\prime\\prime}$\n $147^\\circ10{}^\\prime16.8341{}^{\\prime\\prime}$\n $147^\\circ10{}^\\prime29.1423{}^{\\prime\\prime}$\n $147^\\circ10{}^\\prime41.4748{}^{\\prime\\prime}$\n $147^\\circ10{}^\\prime53.7956{}^{\\prime\\prime}$\n $147^\\circ11{}^\\prime06.1058{}^{\\prime\\prime}$\n $147^\\circ11{}^\\prime18.4031{}^{\\prime\\prime}$\n $147^\\circ11{}^\\prime30.6885{}^{\\prime\\prime}$\n $147^\\circ11{}^\\prime42.9632{}^{\\prime\\prime}$\n $147^\\circ11{}^\\prime55.2249{}^{\\prime\\prime}$\n $147^\\circ12{}^\\prime07.4758{}^{\\prime\\prime}$\n $147^\\circ12{}^\\prime19.7149{}^{\\prime\\prime}$\n $147^\\circ12{}^\\prime31.9766{}^{\\prime\\prime}$\n $147^\\circ12{}^\\prime44.1915{}^{\\prime\\prime}$\n $147^\\circ12{}^\\prime56.3945{}^{\\prime\\prime}$]"
     },
     "metadata": {},
     "output_type": "execute_result",
     "execution_count": 10
    }
   ],
   "source": [
    "sep_sun"
   ],
   "metadata": {
    "collapsed": false,
    "pycharm": {
     "name": "#%%\n",
     "is_executing": false
    }
   }
  },
  {
   "cell_type": "code",
   "execution_count": 6,
   "outputs": [
    {
     "data": {
      "text/plain": "astropy.coordinates.angles.Angle"
     },
     "metadata": {},
     "output_type": "execute_result",
     "execution_count": 6
    }
   ],
   "source": [
    "type(sep_sun)"
   ],
   "metadata": {
    "collapsed": false,
    "pycharm": {
     "name": "#%%\n",
     "is_executing": false
    }
   }
  },
  {
   "cell_type": "code",
   "execution_count": 12,
   "outputs": [],
   "source": [
    "io = fcal.get_sso_coordinates('Io', epoch, raw_table=False)\n"
   ],
   "metadata": {
    "collapsed": false,
    "pycharm": {
     "name": "#%%\n",
     "is_executing": false
    }
   }
  },
  {
   "cell_type": "code",
   "execution_count": 3,
   "outputs": [],
   "source": [
    "datadict = fcal.get_jovians_info(\n",
    "   epoch, fcal.get_sso_coordinates('Sun', epoch), \n",
    "   fcal.get_sso_coordinates('Moon', epoch))"
   ],
   "metadata": {
    "collapsed": false,
    "pycharm": {
     "name": "#%%\n",
     "is_executing": false
    }
   }
  },
  {
   "cell_type": "code",
   "execution_count": 2,
   "outputs": [],
   "source": [
    "coord_df = fcal.get_source_info(13.4 * fcal.u.hour, -34.234 * fcal.u.deg, epoch)"
   ],
   "metadata": {
    "collapsed": false,
    "pycharm": {
     "name": "#%%\n",
     "is_executing": false
    }
   }
  },
  {
   "cell_type": "code",
   "execution_count": 9,
   "outputs": [
    {
     "data": {
      "text/plain": "'hola'"
     },
     "metadata": {},
     "output_type": "execute_result",
     "execution_count": 9
    }
   ],
   "source": [
    "list({'hola': 'hola'}.values())[0]"
   ],
   "metadata": {
    "collapsed": false,
    "pycharm": {
     "name": "#%%\n",
     "is_executing": false
    }
   }
  },
  {
   "cell_type": "code",
   "execution_count": 6,
   "outputs": [
    {
     "data": {
      "text/plain": "<TimeSeries length=96>\n          time         \n         object        \n-----------------------\n2020-02-21 00:00:00.000\n2020-02-21 00:15:00.000\n2020-02-21 00:30:00.000\n2020-02-21 00:45:00.000\n2020-02-21 01:00:00.000\n2020-02-21 01:15:00.000\n2020-02-21 01:30:00.000\n2020-02-21 01:45:00.000\n2020-02-21 02:00:00.000\n2020-02-21 02:15:00.000\n                    ...\n2020-02-21 21:30:00.000\n2020-02-21 21:45:00.000\n2020-02-21 22:00:00.000\n2020-02-21 22:15:00.000\n2020-02-21 22:30:00.000\n2020-02-21 22:45:00.000\n2020-02-21 23:00:00.000\n2020-02-21 23:15:00.000\n2020-02-21 23:30:00.000\n2020-02-21 23:45:00.000",
      "text/html": "<i>TimeSeries length=96</i>\n<table id=\"table140427141427776\" class=\"table-striped table-bordered table-condensed\">\n<thead><tr><th>time</th></tr></thead>\n<thead><tr><th>object</th></tr></thead>\n<tr><td>2020-02-21 00:00:00.000</td></tr>\n<tr><td>2020-02-21 00:15:00.000</td></tr>\n<tr><td>2020-02-21 00:30:00.000</td></tr>\n<tr><td>2020-02-21 00:45:00.000</td></tr>\n<tr><td>2020-02-21 01:00:00.000</td></tr>\n<tr><td>2020-02-21 01:15:00.000</td></tr>\n<tr><td>2020-02-21 01:30:00.000</td></tr>\n<tr><td>2020-02-21 01:45:00.000</td></tr>\n<tr><td>2020-02-21 02:00:00.000</td></tr>\n<tr><td>2020-02-21 02:15:00.000</td></tr>\n<tr><td>...</td></tr>\n<tr><td>2020-02-21 21:30:00.000</td></tr>\n<tr><td>2020-02-21 21:45:00.000</td></tr>\n<tr><td>2020-02-21 22:00:00.000</td></tr>\n<tr><td>2020-02-21 22:15:00.000</td></tr>\n<tr><td>2020-02-21 22:30:00.000</td></tr>\n<tr><td>2020-02-21 22:45:00.000</td></tr>\n<tr><td>2020-02-21 23:00:00.000</td></tr>\n<tr><td>2020-02-21 23:15:00.000</td></tr>\n<tr><td>2020-02-21 23:30:00.000</td></tr>\n<tr><td>2020-02-21 23:45:00.000</td></tr>\n</table>"
     },
     "metadata": {},
     "output_type": "execute_result",
     "execution_count": 6
    }
   ],
   "source": [
    "TimeSeries(time_start=epoch['start'], time_delta=15*fcal.u.min, n_samples=96)"
   ],
   "metadata": {
    "collapsed": false,
    "pycharm": {
     "name": "#%%\n",
     "is_executing": false
    }
   }
  },
  {
   "cell_type": "code",
   "execution_count": 10,
   "outputs": [],
   "source": [
    "a=datadict['Ganymede'].timestamp[0]"
   ],
   "metadata": {
    "collapsed": false,
    "pycharm": {
     "name": "#%%\n",
     "is_executing": false
    }
   }
  },
  {
   "cell_type": "code",
   "execution_count": 13,
   "outputs": [
    {
     "data": {
      "text/plain": "'2020-02-21T00:00:00'"
     },
     "metadata": {},
     "output_type": "execute_result",
     "execution_count": 13
    }
   ],
   "source": [
    "a.isoformat()"
   ],
   "metadata": {
    "collapsed": false,
    "pycharm": {
     "name": "#%%\n",
     "is_executing": false
    }
   }
  },
  {
   "cell_type": "code",
   "execution_count": 3,
   "outputs": [
    {
     "data": {
      "text/plain": "             timestamp            Sun           Moon closest_object  \\\n0  2020-02-21 00:00:00  417688.899600  317964.635394           Moon   \n1  2020-02-21 00:15:00  417722.757636  318521.313339           Moon   \n2  2020-02-21 00:30:00  417756.638795  319081.573307           Moon   \n3  2020-02-21 00:45:00  417790.545421  319644.877342           Moon   \n4  2020-02-21 01:00:00  417824.472810  320210.552830           Moon   \n5  2020-02-21 01:15:00  417858.399271  320778.051502           Moon   \n6  2020-02-21 01:30:00  417892.348835  321346.771918           Moon   \n7  2020-02-21 01:45:00  417926.297467  321916.016597           Moon   \n8  2020-02-21 02:00:00  417960.242797  322485.234343           Moon   \n9  2020-02-21 02:15:00  417994.237614  323053.772843           Moon   \n10 2020-02-21 02:30:00  418028.255516  323621.072902           Moon   \n11 2020-02-21 02:45:00  418062.246071  324186.490197           Moon   \n12 2020-02-21 03:00:00  418096.235678  324749.436695           Moon   \n13 2020-02-21 03:15:00  418130.248356  325309.314730           Moon   \n14 2020-02-21 03:30:00  418164.260082  325865.550051           Moon   \n15 2020-02-21 03:45:00  418198.270856  326417.582271           Moon   \n16 2020-02-21 04:00:00  418232.304691  326964.889831           Moon   \n17 2020-02-21 04:15:00  418266.337569  327506.926436           Moon   \n18 2020-02-21 04:30:00  418300.343074  328043.143149           Moon   \n19 2020-02-21 04:45:00  418334.347616  328573.139247           Moon   \n20 2020-02-21 05:00:00  418368.327186  329096.353187           Moon   \n21 2020-02-21 05:15:00  418402.329804  329612.410931           Moon   \n22 2020-02-21 05:30:00  418436.331459  330120.874842           Moon   \n23 2020-02-21 05:45:00  418470.308145  330621.384743           Moon   \n24 2020-02-21 06:00:00  418504.257442  331113.551721           Moon   \n25 2020-02-21 06:15:00  418538.232202  331597.046672           Moon   \n26 2020-02-21 06:30:00  418572.179569  332071.586951           Moon   \n27 2020-02-21 06:45:00  418606.077974  332536.922846           Moon   \n28 2020-02-21 07:00:00  418639.999413  332992.828817           Moon   \n29 2020-02-21 07:15:00  418673.895894  333439.081285           Moon   \n..                 ...            ...            ...            ...   \n67 2020-02-21 16:45:00  419946.181687  345055.001192           Moon   \n68 2020-02-21 17:00:00  419979.450703  345340.974316           Moon   \n69 2020-02-21 17:15:00  420012.694906  345633.569372           Moon   \n70 2020-02-21 17:30:00  420045.962158  345933.292374           Moon   \n71 2020-02-21 17:45:00  420079.255038  346240.495934           Moon   \n72 2020-02-21 18:00:00  420112.520524  346555.632817           Moon   \n73 2020-02-21 18:15:00  420145.811641  346879.007880           Moon   \n74 2020-02-21 18:30:00  420179.101876  347210.968667           Moon   \n75 2020-02-21 18:45:00  420212.465589  347551.818282           Moon   \n76 2020-02-21 19:00:00  420245.777978  347901.729364           Moon   \n77 2020-02-21 19:15:00  420279.139921  348260.945855           Moon   \n78 2020-02-21 19:30:00  420312.498371  348629.615133           Moon   \n79 2020-02-21 19:45:00  420345.882452  349007.829013           Moon   \n80 2020-02-21 20:00:00  420379.316083  349395.678129           Moon   \n81 2020-02-21 20:15:00  420412.746207  349793.226009           Moon   \n82 2020-02-21 20:30:00  420446.175434  350200.457368           Moon   \n83 2020-02-21 20:45:00  420479.654203  350617.280642           Moon   \n84 2020-02-21 21:00:00  420513.129447  351043.652051           Moon   \n85 2020-02-21 21:15:00  420546.654226  351479.425611           Moon   \n86 2020-02-21 21:30:00  420580.202004  351924.449132           Moon   \n87 2020-02-21 21:45:00  420613.748872  352378.524646           Moon   \n88 2020-02-21 22:00:00  420647.342632  352841.391831           Moon   \n89 2020-02-21 22:15:00  420680.959374  353312.821900           Moon   \n90 2020-02-21 22:30:00  420714.575196  353792.479383           Moon   \n91 2020-02-21 22:45:00  420748.237888  354280.027621           Moon   \n92 2020-02-21 23:00:00  420781.899652  354775.124479           Moon   \n93 2020-02-21 23:15:00  420815.584381  355277.403358           Moon   \n94 2020-02-21 23:30:00  420849.342510  355786.396055           Moon   \n95 2020-02-21 23:45:00  420883.073151  356301.682795           Moon   \n96 2020-02-22 00:00:00  420916.826739  356822.811536           Moon   \n\n    closest_distance   altitude        lst  \n0      317964.635394  -8.267847   5.508657  \n1      318521.313339  -5.697798   5.759342  \n2      319081.573307  -3.060174   6.010026  \n3      319644.877342  -0.361433   6.260711  \n4      320210.552830   2.392537   6.511395  \n5      320778.051502   5.196363   6.762080  \n6      321346.771918   8.045138   7.012764  \n7      321916.016597  10.934366   7.263449  \n8      322485.234343  13.859911   7.514133  \n9      323053.772843  16.817952   7.764818  \n10     323621.072902  19.804929   8.015502  \n11     324186.490197  22.817498   8.266187  \n12     324749.436695  25.852480   8.516871  \n13     325309.314730  28.906813   8.767556  \n14     325865.550051  31.977491   9.018240  \n15     326417.582271  35.061502   9.268925  \n16     326964.889831  38.155749   9.519609  \n17     327506.926436  41.256955   9.770293  \n18     328043.143149  44.361535  10.020978  \n19     328573.139247  47.465424  10.271662  \n20     329096.353187  50.563832  10.522347  \n21     329612.410931  53.650890  10.773031  \n22     330120.874842  56.719114  11.023716  \n23     330621.384743  59.758573  11.274400  \n24     331113.551721  62.755556  11.525085  \n25     331597.046672  65.690382  11.775769  \n26     332071.586951  68.533691  12.026454  \n27     332536.922846  71.240110  12.277138  \n28     332992.828817  73.737627  12.527823  \n29     333439.081285  75.911470  12.778507  \n..               ...        ...        ...  \n67     345055.001192 -17.481180  22.304517  \n68     345340.974316 -19.606164  22.555202  \n69     345633.569372 -21.611959  22.805886  \n70     345933.292374 -23.487471  23.056571  \n71     346240.495934 -25.221101  23.307255  \n72     346555.632817 -26.800918  23.557940  \n73     346879.007880 -28.214895  23.808624  \n74     347210.968667 -29.451217   0.059309  \n75     347551.818282 -30.498637   0.309993  \n76     347901.729364 -31.346894   0.560678  \n77     348260.945855 -31.987138   0.811362  \n78     348629.615133 -32.412347   1.062047  \n79     349007.829013 -32.617684   1.312731  \n80     349395.678129 -32.600765   1.563416  \n81     349793.226009 -32.361787   1.814100  \n82     350200.457368 -31.903521   2.064784  \n83     350617.280642 -31.231154   2.315469  \n84     351043.652051 -30.352012   2.566153  \n85     351479.425611 -29.275186   2.816838  \n86     351924.449132 -28.011116   3.067522  \n87     352378.524646 -26.571160   3.318207  \n88     352841.391831 -24.967189   3.568891  \n89     353312.821900 -23.211231   3.819576  \n90     353792.479383 -21.315181   4.070260  \n91     354280.027621 -19.290571   4.320945  \n92     354775.124479 -17.148407   4.571629  \n93     355277.403358 -14.899061   4.822314  \n94     355786.396055 -12.552212   5.072998  \n95     356301.682795 -10.116822   5.323683  \n96     356822.811536  -7.601139   5.574367  \n\n[97 rows x 7 columns]",
      "text/html": "<div>\n<style scoped>\n    .dataframe tbody tr th:only-of-type {\n        vertical-align: middle;\n    }\n\n    .dataframe tbody tr th {\n        vertical-align: top;\n    }\n\n    .dataframe thead th {\n        text-align: right;\n    }\n</style>\n<table border=\"1\" class=\"dataframe\">\n  <thead>\n    <tr style=\"text-align: right;\">\n      <th></th>\n      <th>timestamp</th>\n      <th>Sun</th>\n      <th>Moon</th>\n      <th>closest_object</th>\n      <th>closest_distance</th>\n      <th>altitude</th>\n      <th>lst</th>\n    </tr>\n  </thead>\n  <tbody>\n    <tr>\n      <th>0</th>\n      <td>2020-02-21 00:00:00</td>\n      <td>417688.899600</td>\n      <td>317964.635394</td>\n      <td>Moon</td>\n      <td>317964.635394</td>\n      <td>-8.267847</td>\n      <td>5.508657</td>\n    </tr>\n    <tr>\n      <th>1</th>\n      <td>2020-02-21 00:15:00</td>\n      <td>417722.757636</td>\n      <td>318521.313339</td>\n      <td>Moon</td>\n      <td>318521.313339</td>\n      <td>-5.697798</td>\n      <td>5.759342</td>\n    </tr>\n    <tr>\n      <th>2</th>\n      <td>2020-02-21 00:30:00</td>\n      <td>417756.638795</td>\n      <td>319081.573307</td>\n      <td>Moon</td>\n      <td>319081.573307</td>\n      <td>-3.060174</td>\n      <td>6.010026</td>\n    </tr>\n    <tr>\n      <th>3</th>\n      <td>2020-02-21 00:45:00</td>\n      <td>417790.545421</td>\n      <td>319644.877342</td>\n      <td>Moon</td>\n      <td>319644.877342</td>\n      <td>-0.361433</td>\n      <td>6.260711</td>\n    </tr>\n    <tr>\n      <th>4</th>\n      <td>2020-02-21 01:00:00</td>\n      <td>417824.472810</td>\n      <td>320210.552830</td>\n      <td>Moon</td>\n      <td>320210.552830</td>\n      <td>2.392537</td>\n      <td>6.511395</td>\n    </tr>\n    <tr>\n      <th>5</th>\n      <td>2020-02-21 01:15:00</td>\n      <td>417858.399271</td>\n      <td>320778.051502</td>\n      <td>Moon</td>\n      <td>320778.051502</td>\n      <td>5.196363</td>\n      <td>6.762080</td>\n    </tr>\n    <tr>\n      <th>6</th>\n      <td>2020-02-21 01:30:00</td>\n      <td>417892.348835</td>\n      <td>321346.771918</td>\n      <td>Moon</td>\n      <td>321346.771918</td>\n      <td>8.045138</td>\n      <td>7.012764</td>\n    </tr>\n    <tr>\n      <th>7</th>\n      <td>2020-02-21 01:45:00</td>\n      <td>417926.297467</td>\n      <td>321916.016597</td>\n      <td>Moon</td>\n      <td>321916.016597</td>\n      <td>10.934366</td>\n      <td>7.263449</td>\n    </tr>\n    <tr>\n      <th>8</th>\n      <td>2020-02-21 02:00:00</td>\n      <td>417960.242797</td>\n      <td>322485.234343</td>\n      <td>Moon</td>\n      <td>322485.234343</td>\n      <td>13.859911</td>\n      <td>7.514133</td>\n    </tr>\n    <tr>\n      <th>9</th>\n      <td>2020-02-21 02:15:00</td>\n      <td>417994.237614</td>\n      <td>323053.772843</td>\n      <td>Moon</td>\n      <td>323053.772843</td>\n      <td>16.817952</td>\n      <td>7.764818</td>\n    </tr>\n    <tr>\n      <th>10</th>\n      <td>2020-02-21 02:30:00</td>\n      <td>418028.255516</td>\n      <td>323621.072902</td>\n      <td>Moon</td>\n      <td>323621.072902</td>\n      <td>19.804929</td>\n      <td>8.015502</td>\n    </tr>\n    <tr>\n      <th>11</th>\n      <td>2020-02-21 02:45:00</td>\n      <td>418062.246071</td>\n      <td>324186.490197</td>\n      <td>Moon</td>\n      <td>324186.490197</td>\n      <td>22.817498</td>\n      <td>8.266187</td>\n    </tr>\n    <tr>\n      <th>12</th>\n      <td>2020-02-21 03:00:00</td>\n      <td>418096.235678</td>\n      <td>324749.436695</td>\n      <td>Moon</td>\n      <td>324749.436695</td>\n      <td>25.852480</td>\n      <td>8.516871</td>\n    </tr>\n    <tr>\n      <th>13</th>\n      <td>2020-02-21 03:15:00</td>\n      <td>418130.248356</td>\n      <td>325309.314730</td>\n      <td>Moon</td>\n      <td>325309.314730</td>\n      <td>28.906813</td>\n      <td>8.767556</td>\n    </tr>\n    <tr>\n      <th>14</th>\n      <td>2020-02-21 03:30:00</td>\n      <td>418164.260082</td>\n      <td>325865.550051</td>\n      <td>Moon</td>\n      <td>325865.550051</td>\n      <td>31.977491</td>\n      <td>9.018240</td>\n    </tr>\n    <tr>\n      <th>15</th>\n      <td>2020-02-21 03:45:00</td>\n      <td>418198.270856</td>\n      <td>326417.582271</td>\n      <td>Moon</td>\n      <td>326417.582271</td>\n      <td>35.061502</td>\n      <td>9.268925</td>\n    </tr>\n    <tr>\n      <th>16</th>\n      <td>2020-02-21 04:00:00</td>\n      <td>418232.304691</td>\n      <td>326964.889831</td>\n      <td>Moon</td>\n      <td>326964.889831</td>\n      <td>38.155749</td>\n      <td>9.519609</td>\n    </tr>\n    <tr>\n      <th>17</th>\n      <td>2020-02-21 04:15:00</td>\n      <td>418266.337569</td>\n      <td>327506.926436</td>\n      <td>Moon</td>\n      <td>327506.926436</td>\n      <td>41.256955</td>\n      <td>9.770293</td>\n    </tr>\n    <tr>\n      <th>18</th>\n      <td>2020-02-21 04:30:00</td>\n      <td>418300.343074</td>\n      <td>328043.143149</td>\n      <td>Moon</td>\n      <td>328043.143149</td>\n      <td>44.361535</td>\n      <td>10.020978</td>\n    </tr>\n    <tr>\n      <th>19</th>\n      <td>2020-02-21 04:45:00</td>\n      <td>418334.347616</td>\n      <td>328573.139247</td>\n      <td>Moon</td>\n      <td>328573.139247</td>\n      <td>47.465424</td>\n      <td>10.271662</td>\n    </tr>\n    <tr>\n      <th>20</th>\n      <td>2020-02-21 05:00:00</td>\n      <td>418368.327186</td>\n      <td>329096.353187</td>\n      <td>Moon</td>\n      <td>329096.353187</td>\n      <td>50.563832</td>\n      <td>10.522347</td>\n    </tr>\n    <tr>\n      <th>21</th>\n      <td>2020-02-21 05:15:00</td>\n      <td>418402.329804</td>\n      <td>329612.410931</td>\n      <td>Moon</td>\n      <td>329612.410931</td>\n      <td>53.650890</td>\n      <td>10.773031</td>\n    </tr>\n    <tr>\n      <th>22</th>\n      <td>2020-02-21 05:30:00</td>\n      <td>418436.331459</td>\n      <td>330120.874842</td>\n      <td>Moon</td>\n      <td>330120.874842</td>\n      <td>56.719114</td>\n      <td>11.023716</td>\n    </tr>\n    <tr>\n      <th>23</th>\n      <td>2020-02-21 05:45:00</td>\n      <td>418470.308145</td>\n      <td>330621.384743</td>\n      <td>Moon</td>\n      <td>330621.384743</td>\n      <td>59.758573</td>\n      <td>11.274400</td>\n    </tr>\n    <tr>\n      <th>24</th>\n      <td>2020-02-21 06:00:00</td>\n      <td>418504.257442</td>\n      <td>331113.551721</td>\n      <td>Moon</td>\n      <td>331113.551721</td>\n      <td>62.755556</td>\n      <td>11.525085</td>\n    </tr>\n    <tr>\n      <th>25</th>\n      <td>2020-02-21 06:15:00</td>\n      <td>418538.232202</td>\n      <td>331597.046672</td>\n      <td>Moon</td>\n      <td>331597.046672</td>\n      <td>65.690382</td>\n      <td>11.775769</td>\n    </tr>\n    <tr>\n      <th>26</th>\n      <td>2020-02-21 06:30:00</td>\n      <td>418572.179569</td>\n      <td>332071.586951</td>\n      <td>Moon</td>\n      <td>332071.586951</td>\n      <td>68.533691</td>\n      <td>12.026454</td>\n    </tr>\n    <tr>\n      <th>27</th>\n      <td>2020-02-21 06:45:00</td>\n      <td>418606.077974</td>\n      <td>332536.922846</td>\n      <td>Moon</td>\n      <td>332536.922846</td>\n      <td>71.240110</td>\n      <td>12.277138</td>\n    </tr>\n    <tr>\n      <th>28</th>\n      <td>2020-02-21 07:00:00</td>\n      <td>418639.999413</td>\n      <td>332992.828817</td>\n      <td>Moon</td>\n      <td>332992.828817</td>\n      <td>73.737627</td>\n      <td>12.527823</td>\n    </tr>\n    <tr>\n      <th>29</th>\n      <td>2020-02-21 07:15:00</td>\n      <td>418673.895894</td>\n      <td>333439.081285</td>\n      <td>Moon</td>\n      <td>333439.081285</td>\n      <td>75.911470</td>\n      <td>12.778507</td>\n    </tr>\n    <tr>\n      <th>...</th>\n      <td>...</td>\n      <td>...</td>\n      <td>...</td>\n      <td>...</td>\n      <td>...</td>\n      <td>...</td>\n      <td>...</td>\n    </tr>\n    <tr>\n      <th>67</th>\n      <td>2020-02-21 16:45:00</td>\n      <td>419946.181687</td>\n      <td>345055.001192</td>\n      <td>Moon</td>\n      <td>345055.001192</td>\n      <td>-17.481180</td>\n      <td>22.304517</td>\n    </tr>\n    <tr>\n      <th>68</th>\n      <td>2020-02-21 17:00:00</td>\n      <td>419979.450703</td>\n      <td>345340.974316</td>\n      <td>Moon</td>\n      <td>345340.974316</td>\n      <td>-19.606164</td>\n      <td>22.555202</td>\n    </tr>\n    <tr>\n      <th>69</th>\n      <td>2020-02-21 17:15:00</td>\n      <td>420012.694906</td>\n      <td>345633.569372</td>\n      <td>Moon</td>\n      <td>345633.569372</td>\n      <td>-21.611959</td>\n      <td>22.805886</td>\n    </tr>\n    <tr>\n      <th>70</th>\n      <td>2020-02-21 17:30:00</td>\n      <td>420045.962158</td>\n      <td>345933.292374</td>\n      <td>Moon</td>\n      <td>345933.292374</td>\n      <td>-23.487471</td>\n      <td>23.056571</td>\n    </tr>\n    <tr>\n      <th>71</th>\n      <td>2020-02-21 17:45:00</td>\n      <td>420079.255038</td>\n      <td>346240.495934</td>\n      <td>Moon</td>\n      <td>346240.495934</td>\n      <td>-25.221101</td>\n      <td>23.307255</td>\n    </tr>\n    <tr>\n      <th>72</th>\n      <td>2020-02-21 18:00:00</td>\n      <td>420112.520524</td>\n      <td>346555.632817</td>\n      <td>Moon</td>\n      <td>346555.632817</td>\n      <td>-26.800918</td>\n      <td>23.557940</td>\n    </tr>\n    <tr>\n      <th>73</th>\n      <td>2020-02-21 18:15:00</td>\n      <td>420145.811641</td>\n      <td>346879.007880</td>\n      <td>Moon</td>\n      <td>346879.007880</td>\n      <td>-28.214895</td>\n      <td>23.808624</td>\n    </tr>\n    <tr>\n      <th>74</th>\n      <td>2020-02-21 18:30:00</td>\n      <td>420179.101876</td>\n      <td>347210.968667</td>\n      <td>Moon</td>\n      <td>347210.968667</td>\n      <td>-29.451217</td>\n      <td>0.059309</td>\n    </tr>\n    <tr>\n      <th>75</th>\n      <td>2020-02-21 18:45:00</td>\n      <td>420212.465589</td>\n      <td>347551.818282</td>\n      <td>Moon</td>\n      <td>347551.818282</td>\n      <td>-30.498637</td>\n      <td>0.309993</td>\n    </tr>\n    <tr>\n      <th>76</th>\n      <td>2020-02-21 19:00:00</td>\n      <td>420245.777978</td>\n      <td>347901.729364</td>\n      <td>Moon</td>\n      <td>347901.729364</td>\n      <td>-31.346894</td>\n      <td>0.560678</td>\n    </tr>\n    <tr>\n      <th>77</th>\n      <td>2020-02-21 19:15:00</td>\n      <td>420279.139921</td>\n      <td>348260.945855</td>\n      <td>Moon</td>\n      <td>348260.945855</td>\n      <td>-31.987138</td>\n      <td>0.811362</td>\n    </tr>\n    <tr>\n      <th>78</th>\n      <td>2020-02-21 19:30:00</td>\n      <td>420312.498371</td>\n      <td>348629.615133</td>\n      <td>Moon</td>\n      <td>348629.615133</td>\n      <td>-32.412347</td>\n      <td>1.062047</td>\n    </tr>\n    <tr>\n      <th>79</th>\n      <td>2020-02-21 19:45:00</td>\n      <td>420345.882452</td>\n      <td>349007.829013</td>\n      <td>Moon</td>\n      <td>349007.829013</td>\n      <td>-32.617684</td>\n      <td>1.312731</td>\n    </tr>\n    <tr>\n      <th>80</th>\n      <td>2020-02-21 20:00:00</td>\n      <td>420379.316083</td>\n      <td>349395.678129</td>\n      <td>Moon</td>\n      <td>349395.678129</td>\n      <td>-32.600765</td>\n      <td>1.563416</td>\n    </tr>\n    <tr>\n      <th>81</th>\n      <td>2020-02-21 20:15:00</td>\n      <td>420412.746207</td>\n      <td>349793.226009</td>\n      <td>Moon</td>\n      <td>349793.226009</td>\n      <td>-32.361787</td>\n      <td>1.814100</td>\n    </tr>\n    <tr>\n      <th>82</th>\n      <td>2020-02-21 20:30:00</td>\n      <td>420446.175434</td>\n      <td>350200.457368</td>\n      <td>Moon</td>\n      <td>350200.457368</td>\n      <td>-31.903521</td>\n      <td>2.064784</td>\n    </tr>\n    <tr>\n      <th>83</th>\n      <td>2020-02-21 20:45:00</td>\n      <td>420479.654203</td>\n      <td>350617.280642</td>\n      <td>Moon</td>\n      <td>350617.280642</td>\n      <td>-31.231154</td>\n      <td>2.315469</td>\n    </tr>\n    <tr>\n      <th>84</th>\n      <td>2020-02-21 21:00:00</td>\n      <td>420513.129447</td>\n      <td>351043.652051</td>\n      <td>Moon</td>\n      <td>351043.652051</td>\n      <td>-30.352012</td>\n      <td>2.566153</td>\n    </tr>\n    <tr>\n      <th>85</th>\n      <td>2020-02-21 21:15:00</td>\n      <td>420546.654226</td>\n      <td>351479.425611</td>\n      <td>Moon</td>\n      <td>351479.425611</td>\n      <td>-29.275186</td>\n      <td>2.816838</td>\n    </tr>\n    <tr>\n      <th>86</th>\n      <td>2020-02-21 21:30:00</td>\n      <td>420580.202004</td>\n      <td>351924.449132</td>\n      <td>Moon</td>\n      <td>351924.449132</td>\n      <td>-28.011116</td>\n      <td>3.067522</td>\n    </tr>\n    <tr>\n      <th>87</th>\n      <td>2020-02-21 21:45:00</td>\n      <td>420613.748872</td>\n      <td>352378.524646</td>\n      <td>Moon</td>\n      <td>352378.524646</td>\n      <td>-26.571160</td>\n      <td>3.318207</td>\n    </tr>\n    <tr>\n      <th>88</th>\n      <td>2020-02-21 22:00:00</td>\n      <td>420647.342632</td>\n      <td>352841.391831</td>\n      <td>Moon</td>\n      <td>352841.391831</td>\n      <td>-24.967189</td>\n      <td>3.568891</td>\n    </tr>\n    <tr>\n      <th>89</th>\n      <td>2020-02-21 22:15:00</td>\n      <td>420680.959374</td>\n      <td>353312.821900</td>\n      <td>Moon</td>\n      <td>353312.821900</td>\n      <td>-23.211231</td>\n      <td>3.819576</td>\n    </tr>\n    <tr>\n      <th>90</th>\n      <td>2020-02-21 22:30:00</td>\n      <td>420714.575196</td>\n      <td>353792.479383</td>\n      <td>Moon</td>\n      <td>353792.479383</td>\n      <td>-21.315181</td>\n      <td>4.070260</td>\n    </tr>\n    <tr>\n      <th>91</th>\n      <td>2020-02-21 22:45:00</td>\n      <td>420748.237888</td>\n      <td>354280.027621</td>\n      <td>Moon</td>\n      <td>354280.027621</td>\n      <td>-19.290571</td>\n      <td>4.320945</td>\n    </tr>\n    <tr>\n      <th>92</th>\n      <td>2020-02-21 23:00:00</td>\n      <td>420781.899652</td>\n      <td>354775.124479</td>\n      <td>Moon</td>\n      <td>354775.124479</td>\n      <td>-17.148407</td>\n      <td>4.571629</td>\n    </tr>\n    <tr>\n      <th>93</th>\n      <td>2020-02-21 23:15:00</td>\n      <td>420815.584381</td>\n      <td>355277.403358</td>\n      <td>Moon</td>\n      <td>355277.403358</td>\n      <td>-14.899061</td>\n      <td>4.822314</td>\n    </tr>\n    <tr>\n      <th>94</th>\n      <td>2020-02-21 23:30:00</td>\n      <td>420849.342510</td>\n      <td>355786.396055</td>\n      <td>Moon</td>\n      <td>355786.396055</td>\n      <td>-12.552212</td>\n      <td>5.072998</td>\n    </tr>\n    <tr>\n      <th>95</th>\n      <td>2020-02-21 23:45:00</td>\n      <td>420883.073151</td>\n      <td>356301.682795</td>\n      <td>Moon</td>\n      <td>356301.682795</td>\n      <td>-10.116822</td>\n      <td>5.323683</td>\n    </tr>\n    <tr>\n      <th>96</th>\n      <td>2020-02-22 00:00:00</td>\n      <td>420916.826739</td>\n      <td>356822.811536</td>\n      <td>Moon</td>\n      <td>356822.811536</td>\n      <td>-7.601139</td>\n      <td>5.574367</td>\n    </tr>\n  </tbody>\n</table>\n<p>97 rows × 7 columns</p>\n</div>"
     },
     "metadata": {},
     "output_type": "execute_result",
     "execution_count": 3
    }
   ],
   "source": [
    "coord_df"
   ],
   "metadata": {
    "collapsed": false,
    "pycharm": {
     "name": "#%%\n",
     "is_executing": false
    }
   }
  },
  {
   "cell_type": "code",
   "execution_count": null,
   "outputs": [],
   "source": [
    "\n"
   ],
   "metadata": {
    "collapsed": false,
    "pycharm": {
     "name": "#%%\n"
    }
   }
  }
 ],
 "metadata": {
  "kernelspec": {
   "display_name": "Python 3",
   "language": "python",
   "name": "python3"
  },
  "language_info": {
   "codemirror_mode": {
    "name": "ipython",
    "version": 2
   },
   "file_extension": ".py",
   "mimetype": "text/x-python",
   "name": "python",
   "nbconvert_exporter": "python",
   "pygments_lexer": "ipython2",
   "version": "2.7.6"
  },
  "pycharm": {
   "stem_cell": {
    "cell_type": "raw",
    "source": [],
    "metadata": {
     "collapsed": false
    }
   }
  }
 },
 "nbformat": 4,
 "nbformat_minor": 0
}